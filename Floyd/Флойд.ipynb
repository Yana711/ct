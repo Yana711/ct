{
 "cells": [
  {
   "cell_type": "code",
   "execution_count": null,
   "id": "9604f680",
   "metadata": {},
   "outputs": [],
   "source": [
    "# алгоритм Флойда\n",
    "# алгоритм Форда - Белламана"
   ]
  },
  {
   "cell_type": "code",
   "execution_count": 1,
   "id": "ccb01181",
   "metadata": {},
   "outputs": [],
   "source": [
    "edge_list = [[0, 2], \n",
    "            [1, 0], [1, 2],\n",
    "            [2, 3],\n",
    "            [3, 1]\n",
    "]\n",
    "\n",
    "weight_list = [-2,\n",
    "               4, 3,\n",
    "               2,\n",
    "               -1\n",
    "]\n",
    "\n",
    "vert_num = 4\n",
    "INF = float('inf')\n"
   ]
  },
  {
   "cell_type": "code",
   "execution_count": 22,
   "id": "a82a1451",
   "metadata": {},
   "outputs": [],
   "source": [
    "def construct_adj_matrix(edge_list, weight_list, vert_num):\n",
    "    adj_matrix = [[INF for _ in range(vert_num)] for _ in range(vert_num)]\n",
    "    \n",
    "    for edge, weight in zip(edge_list, weight_list):\n",
    "        src = edge[0]\n",
    "        dest = edge[1]\n",
    "        adj_matrix[src][dest] = weight\n",
    "        \n",
    "    return adj_matrix   \n",
    "\n",
    "adj_matrix = construct_adj_matrix(edge_list, weight_list, vert_num)"
   ]
  },
  {
   "cell_type": "code",
   "execution_count": 23,
   "id": "97ed2139",
   "metadata": {},
   "outputs": [
    {
     "data": {
      "text/plain": [
       "[[0, -1, -2, 0], [4, 0, 2, 4], [5, 1, 0, 2], [3, -1, 1, 0]]"
      ]
     },
     "execution_count": 23,
     "metadata": {},
     "output_type": "execute_result"
    }
   ],
   "source": [
    "def Floyd(matrix):\n",
    "    distance = matrix\n",
    "    for i in range(0, vert_num):\n",
    "        for y in range(0, vert_num):\n",
    "            if i == y:\n",
    "                matrix[i][y] = 0\n",
    "    for i in range (vert_num):\n",
    "        for y in range(vert_num):\n",
    "            for  j in range(vert_num):\n",
    "                distance[y][j] = min(distance[y][j], distance[y][i] + distance[i][j])      \n",
    "    return distance \n",
    "\n",
    "Floyd(adj_matrix)"
   ]
  }
 ],
 "metadata": {
  "kernelspec": {
   "display_name": "Python 3 (ipykernel)",
   "language": "python",
   "name": "python3"
  },
  "language_info": {
   "codemirror_mode": {
    "name": "ipython",
    "version": 3
   },
   "file_extension": ".py",
   "mimetype": "text/x-python",
   "name": "python",
   "nbconvert_exporter": "python",
   "pygments_lexer": "ipython3",
   "version": "3.11.5"
  }
 },
 "nbformat": 4,
 "nbformat_minor": 5
}
